{
  "nbformat": 4,
  "nbformat_minor": 0,
  "metadata": {
    "colab": {
      "name": "ds_sample_1_LinearReg.ipynb",
      "provenance": [],
      "collapsed_sections": [],
      "include_colab_link": true
    },
    "kernelspec": {
      "name": "python3",
      "display_name": "Python 3"
    }
  },
  "cells": [
    {
      "cell_type": "markdown",
      "metadata": {
        "id": "view-in-github",
        "colab_type": "text"
      },
      "source": [
        "<a href=\"https://colab.research.google.com/github/Shigeru-Takaya/git_lesson/blob/master/ds_sample_1_LinearReg.ipynb\" target=\"_parent\"><img src=\"https://colab.research.google.com/assets/colab-badge.svg\" alt=\"Open In Colab\"/></a>"
      ]
    },
    {
      "cell_type": "markdown",
      "metadata": {
        "id": "6RujyVsYNASn"
      },
      "source": [
        "# 必要なライブラリをインポート"
      ]
    },
    {
      "cell_type": "code",
      "metadata": {
        "id": "vVYcl18yNFbn",
        "colab": {
          "base_uri": "https://localhost:8080/",
          "height": 51
        },
        "outputId": "d0aa1baf-21da-4d5b-e937-69630e0bb18a"
      },
      "source": [
        "# サンプルデータセットが用意されているライブラリ sklearn.datasets から\n",
        "# ボストンの住宅価格データを取得するためのメソッド load_boston をインポート\n",
        "from sklearn.datasets import load_boston\n",
        "\n",
        "# pandas のインポート\n",
        "import pandas as pd\n",
        "\n",
        "# 機械学習用ライブラリ sklearn（scikit-learn）内にあるライブラリ  から\n",
        "# モデル構築（訓練用）/検証データ分割用メソッド train_test_split をインポート\n",
        "from sklearn.model_selection import train_test_split\n",
        "\n",
        "# 機械学習用ライブラリ sklearn（scikit-learn）から線形回帰用クラス linear_model をインポート \n",
        "from sklearn import linear_model\n",
        "\n",
        "# 機械学習用ライブラリ sklearn（scikit-learn）内にあるライブラリ preprocessing から\n",
        "# 標準化用クラス StandardScaler をインポート \n",
        "from sklearn.preprocessing import StandardScaler\n",
        "\n",
        "# 統計解析用ライブラリ statsmodels 内にあるライブラリ stats.outliers_influence から\n",
        "# 分散拡大係数（VIF）計算用メソッド variance_inflation_factor をインポート\n",
        "from statsmodels.stats.outliers_influence import variance_inflation_factor\n",
        "\n",
        "# 精度評価指標を計算するためのメソッドをインポート\n",
        "#   ・r2_score：決定係数\n",
        "#   ・mean_squared_error：平均二乗誤差\n",
        "#   ・mean_absolute_error：平均絶対誤差\n",
        "#   ・median_absolute_error：Median Absolute Error\n",
        "from sklearn.metrics import r2_score, mean_squared_error, mean_absolute_error, median_absolute_error\n",
        "\n",
        "# オブジェクトのコピーを行うためのモジュール copy をインポート\n",
        "import copy\n",
        "\n",
        "# 数学的な関数を使うためのライブラリ math をインポート\n",
        "import math\n",
        "\n",
        "# グラフ描画用ライブラリ matplotlib、seaborn をインポート\n",
        "import matplotlib.pyplot as plt\n",
        "import seaborn as sns"
      ],
      "execution_count": null,
      "outputs": [
        {
          "output_type": "stream",
          "text": [
            "/usr/local/lib/python3.6/dist-packages/statsmodels/tools/_testing.py:19: FutureWarning: pandas.util.testing is deprecated. Use the functions in the public API at pandas.testing instead.\n",
            "  import pandas.util.testing as tm\n"
          ],
          "name": "stderr"
        }
      ]
    },
    {
      "cell_type": "markdown",
      "metadata": {
        "id": "SNjzL0Q2K1wY"
      },
      "source": [
        "# 分散拡大係数（VIF）を確認するための関数を定義しておく"
      ]
    },
    {
      "cell_type": "code",
      "metadata": {
        "id": "_SSjBOYZK17n"
      },
      "source": [
        "# 投入したデータセットの全ての変数についてVIFを計算する関数 checkVIF の定義\n",
        "def checkVIF( ExplanatoryVarDataSet ):\n",
        "  tmp_columnList = ExplanatoryVarDataSet.columns\n",
        "  vifList = []\n",
        "  for i in range(len(tmp_columnList)):\n",
        "    colname = tmp_columnList[i]\n",
        "    vif = variance_inflation_factor(ExplanatoryVarDataSet.values, i)\n",
        "    vifList.append( [ colname, vif ] )\n",
        "  return  pd.DataFrame( vifList, columns=[\"COLUMN\",\"VIF\"] )"
      ],
      "execution_count": null,
      "outputs": []
    },
    {
      "cell_type": "markdown",
      "metadata": {
        "id": "M5oLHFREJLEX"
      },
      "source": [
        "# AIC によるステップワイズ法で重回帰分析を実行するために必要な関数を定義しておく"
      ]
    },
    {
      "cell_type": "code",
      "metadata": {
        "id": "fAjsKyfC8dBL"
      },
      "source": [
        "# AICを計算する関数 calcAIC\n",
        "def calcAIC(x, y_data, y_predict):\n",
        "  colNum = len(x.columns)\n",
        "  rowNum = x.count()[0]\n",
        "  y_data = y_data.values\n",
        "  RSS = ( ( y_data - y_predict ) * ( y_data - y_predict ) ).sum()\n",
        "  AIC = rowNum * ( math.log( 2 * math.pi * RSS / rowNum ) + 1 ) + 2 * ( colNum + 2 )\n",
        "  return AIC"
      ],
      "execution_count": null,
      "outputs": []
    },
    {
      "cell_type": "code",
      "metadata": {
        "id": "E_gzJjuZGZ1F"
      },
      "source": [
        "# AICを基準としたステップワイズ法で変数選択された重回帰分析を実行する関数 LR_stepwise_AIC\n",
        "def LR_stepwise_AIC(X, y, convergence=0.01, maxIter=100):\n",
        "  # 回帰分析のためのインスタンスをつくる\n",
        "  reg = linear_model.LinearRegression()\n",
        "  returnReg = linear_model.LinearRegression()\n",
        "  # 最終モデルの項目リストを定義しておく\n",
        "  orgColList = X.columns\n",
        "  modelColList = []\n",
        "  maxR2modelColList = []\n",
        "  modelCoef = 0\n",
        "  modelIntercept = 0\n",
        "  modelR2 = 0\n",
        "  modelAIC = 1000000000\n",
        "  residueColList = copy.copy(orgColList)\n",
        "  # \n",
        "  count = 0\n",
        "  while count < maxIter:\n",
        "    count = count + 1\n",
        "    for i in range(len(residueColList)):\n",
        "      tmpColList = copy.copy(modelColList)\n",
        "      if residueColList[i] in tmpColList:\n",
        "        if len(tmpColList) > 1:\n",
        "          tmpColList.remove( residueColList[i] )\n",
        "        else:\n",
        "          continue\n",
        "      else:\n",
        "        tmpColList.append( residueColList[i] )\n",
        "      tmp_X = X.loc[:,tmpColList]\n",
        "      reg.fit(tmp_X, y)\n",
        "      if modelAIC > calcAIC(tmp_X, y, reg.predict(tmp_X) ):\n",
        "        maxR2modelColList = copy.copy(tmpColList)\n",
        "        modelR2 = reg.score(tmp_X, y)\n",
        "        modelAIC = calcAIC(tmp_X, y, reg.predict(tmp_X) )\n",
        "        print(\"model update: variables:\" + str(maxR2modelColList) + \", AIC: \" + str(modelAIC) )\n",
        "        returnReg = copy.copy(reg)\n",
        "    modelColList = copy.copy(maxR2modelColList)\n",
        "  return returnReg, modelColList"
      ],
      "execution_count": null,
      "outputs": []
    },
    {
      "cell_type": "markdown",
      "metadata": {
        "id": "zdfVbqNH5dH5"
      },
      "source": [
        "# データの読み込み"
      ]
    },
    {
      "cell_type": "code",
      "metadata": {
        "id": "J6c2ovdqsoxw",
        "colab": {
          "base_uri": "https://localhost:8080/",
          "height": 204
        },
        "outputId": "4e5bd639-9a89-49f4-ffe0-fc9a508d4496"
      },
      "source": [
        "# ボストン住宅価格データを読み込む\n",
        "loadBoston = load_boston()\n",
        "boston = pd.DataFrame(loadBoston.data, columns = loadBoston.feature_names)\n",
        "boston[\"MEDV\"] = loadBoston.target\n",
        "boston.head()"
      ],
      "execution_count": null,
      "outputs": [
        {
          "output_type": "execute_result",
          "data": {
            "text/html": [
              "<div>\n",
              "<style scoped>\n",
              "    .dataframe tbody tr th:only-of-type {\n",
              "        vertical-align: middle;\n",
              "    }\n",
              "\n",
              "    .dataframe tbody tr th {\n",
              "        vertical-align: top;\n",
              "    }\n",
              "\n",
              "    .dataframe thead th {\n",
              "        text-align: right;\n",
              "    }\n",
              "</style>\n",
              "<table border=\"1\" class=\"dataframe\">\n",
              "  <thead>\n",
              "    <tr style=\"text-align: right;\">\n",
              "      <th></th>\n",
              "      <th>CRIM</th>\n",
              "      <th>ZN</th>\n",
              "      <th>INDUS</th>\n",
              "      <th>CHAS</th>\n",
              "      <th>NOX</th>\n",
              "      <th>RM</th>\n",
              "      <th>AGE</th>\n",
              "      <th>DIS</th>\n",
              "      <th>RAD</th>\n",
              "      <th>TAX</th>\n",
              "      <th>PTRATIO</th>\n",
              "      <th>B</th>\n",
              "      <th>LSTAT</th>\n",
              "      <th>MEDV</th>\n",
              "    </tr>\n",
              "  </thead>\n",
              "  <tbody>\n",
              "    <tr>\n",
              "      <th>0</th>\n",
              "      <td>0.00632</td>\n",
              "      <td>18.0</td>\n",
              "      <td>2.31</td>\n",
              "      <td>0.0</td>\n",
              "      <td>0.538</td>\n",
              "      <td>6.575</td>\n",
              "      <td>65.2</td>\n",
              "      <td>4.0900</td>\n",
              "      <td>1.0</td>\n",
              "      <td>296.0</td>\n",
              "      <td>15.3</td>\n",
              "      <td>396.90</td>\n",
              "      <td>4.98</td>\n",
              "      <td>24.0</td>\n",
              "    </tr>\n",
              "    <tr>\n",
              "      <th>1</th>\n",
              "      <td>0.02731</td>\n",
              "      <td>0.0</td>\n",
              "      <td>7.07</td>\n",
              "      <td>0.0</td>\n",
              "      <td>0.469</td>\n",
              "      <td>6.421</td>\n",
              "      <td>78.9</td>\n",
              "      <td>4.9671</td>\n",
              "      <td>2.0</td>\n",
              "      <td>242.0</td>\n",
              "      <td>17.8</td>\n",
              "      <td>396.90</td>\n",
              "      <td>9.14</td>\n",
              "      <td>21.6</td>\n",
              "    </tr>\n",
              "    <tr>\n",
              "      <th>2</th>\n",
              "      <td>0.02729</td>\n",
              "      <td>0.0</td>\n",
              "      <td>7.07</td>\n",
              "      <td>0.0</td>\n",
              "      <td>0.469</td>\n",
              "      <td>7.185</td>\n",
              "      <td>61.1</td>\n",
              "      <td>4.9671</td>\n",
              "      <td>2.0</td>\n",
              "      <td>242.0</td>\n",
              "      <td>17.8</td>\n",
              "      <td>392.83</td>\n",
              "      <td>4.03</td>\n",
              "      <td>34.7</td>\n",
              "    </tr>\n",
              "    <tr>\n",
              "      <th>3</th>\n",
              "      <td>0.03237</td>\n",
              "      <td>0.0</td>\n",
              "      <td>2.18</td>\n",
              "      <td>0.0</td>\n",
              "      <td>0.458</td>\n",
              "      <td>6.998</td>\n",
              "      <td>45.8</td>\n",
              "      <td>6.0622</td>\n",
              "      <td>3.0</td>\n",
              "      <td>222.0</td>\n",
              "      <td>18.7</td>\n",
              "      <td>394.63</td>\n",
              "      <td>2.94</td>\n",
              "      <td>33.4</td>\n",
              "    </tr>\n",
              "    <tr>\n",
              "      <th>4</th>\n",
              "      <td>0.06905</td>\n",
              "      <td>0.0</td>\n",
              "      <td>2.18</td>\n",
              "      <td>0.0</td>\n",
              "      <td>0.458</td>\n",
              "      <td>7.147</td>\n",
              "      <td>54.2</td>\n",
              "      <td>6.0622</td>\n",
              "      <td>3.0</td>\n",
              "      <td>222.0</td>\n",
              "      <td>18.7</td>\n",
              "      <td>396.90</td>\n",
              "      <td>5.33</td>\n",
              "      <td>36.2</td>\n",
              "    </tr>\n",
              "  </tbody>\n",
              "</table>\n",
              "</div>"
            ],
            "text/plain": [
              "      CRIM    ZN  INDUS  CHAS    NOX  ...    TAX  PTRATIO       B  LSTAT  MEDV\n",
              "0  0.00632  18.0   2.31   0.0  0.538  ...  296.0     15.3  396.90   4.98  24.0\n",
              "1  0.02731   0.0   7.07   0.0  0.469  ...  242.0     17.8  396.90   9.14  21.6\n",
              "2  0.02729   0.0   7.07   0.0  0.469  ...  242.0     17.8  392.83   4.03  34.7\n",
              "3  0.03237   0.0   2.18   0.0  0.458  ...  222.0     18.7  394.63   2.94  33.4\n",
              "4  0.06905   0.0   2.18   0.0  0.458  ...  222.0     18.7  396.90   5.33  36.2\n",
              "\n",
              "[5 rows x 14 columns]"
            ]
          },
          "metadata": {
            "tags": []
          },
          "execution_count": 7
        }
      ]
    },
    {
      "cell_type": "markdown",
      "metadata": {
        "id": "vwfEUgY4LuBw"
      },
      "source": [
        "# 全データをモデル構築用データ、モデル検証用データに分割する"
      ]
    },
    {
      "cell_type": "code",
      "metadata": {
        "id": "CddCEsUNLuMM",
        "colab": {
          "base_uri": "https://localhost:8080/",
          "height": 85
        },
        "outputId": "d6be8172-4734-4ce0-d7a4-e2ecd460686a"
      },
      "source": [
        "# 目的変数と説明変数に分割\n",
        "columnList = boston.columns.values.tolist()\n",
        "columnList.remove(\"MEDV\")\n",
        "X = boston.loc[:,columnList]\n",
        "y = boston.loc[:,[\"MEDV\"]]\n",
        "\n",
        "# モデル構築用データ、モデル検証用データに分割（70:30に分割）\n",
        "X_train, X_test, y_train, y_test = train_test_split(X, y, test_size=0.3, random_state=42)\n",
        "print(X_train.shape)\n",
        "print(X_test.shape)\n",
        "print(y_train.shape)\n",
        "print(y_test.shape)"
      ],
      "execution_count": null,
      "outputs": [
        {
          "output_type": "stream",
          "text": [
            "(354, 13)\n",
            "(152, 13)\n",
            "(354, 1)\n",
            "(152, 1)\n"
          ],
          "name": "stdout"
        }
      ]
    },
    {
      "cell_type": "markdown",
      "metadata": {
        "id": "bH_JHaEF8eNM"
      },
      "source": [
        "# 標準化の実施"
      ]
    },
    {
      "cell_type": "code",
      "metadata": {
        "id": "M2foNyM8DiIJ"
      },
      "source": [
        "# X_train のデータを使い標準化パラメータを獲得してから、X_train、X_test に対して標準化を実施\n",
        "scaler_X = StandardScaler()\n",
        "scaler_X.fit( X_train )\n",
        "X_train_std = pd.DataFrame(scaler_X.transform(X_train), columns=columnList)\n",
        "X_test_std = pd.DataFrame(scaler_X.transform(X_test), columns=columnList)"
      ],
      "execution_count": null,
      "outputs": []
    },
    {
      "cell_type": "code",
      "metadata": {
        "id": "laij0-V0M8cM"
      },
      "source": [
        "# y_train のデータを使い標準化パラメータを獲得してから、y_train、y_test に対して標準化を実施\n",
        "scaler_y = StandardScaler()\n",
        "scaler_y.fit( y_train )\n",
        "y_train_std = pd.DataFrame(scaler_y.transform(y_train), columns=[\"MEDV\"])\n",
        "y_test_std = pd.DataFrame(scaler_y.transform(y_test), columns=[\"MEDV\"])"
      ],
      "execution_count": null,
      "outputs": []
    },
    {
      "cell_type": "markdown",
      "metadata": {
        "id": "xpMbp04EJZlU"
      },
      "source": [
        "# AICによるステップワイズ法で変数選択をしつつ重回帰分析を実行する"
      ]
    },
    {
      "cell_type": "code",
      "metadata": {
        "id": "msJSYeKMG7PH",
        "colab": {
          "base_uri": "https://localhost:8080/",
          "height": 425
        },
        "outputId": "2e50fd98-4b8c-4b34-a535-7cde5479818c"
      },
      "source": [
        "reg, colList = LR_stepwise_AIC(X_train_std, y_train_std, convergence=0.01, maxIter=30)"
      ],
      "execution_count": null,
      "outputs": [
        {
          "output_type": "stream",
          "text": [
            "model update: variables:['CRIM'], AIC: 955.2588842428581\n",
            "model update: variables:['INDUS'], AIC: 926.6232441904497\n",
            "model update: variables:['RM'], AIC: 773.7065705544326\n",
            "model update: variables:['LSTAT'], AIC: 721.4519714451382\n",
            "model update: variables:['LSTAT', 'CRIM'], AIC: 718.0852548020802\n",
            "model update: variables:['LSTAT', 'CHAS'], AIC: 705.027599959596\n",
            "model update: variables:['LSTAT', 'RM'], AIC: 642.3464005438564\n",
            "model update: variables:['LSTAT', 'RM', 'CRIM'], AIC: 634.1861163662331\n",
            "model update: variables:['LSTAT', 'RM', 'CHAS'], AIC: 629.1735966481272\n",
            "model update: variables:['LSTAT', 'RM', 'PTRATIO'], AIC: 605.6717543684476\n",
            "model update: variables:['LSTAT', 'RM', 'PTRATIO', 'CRIM'], AIC: 602.8723312545401\n",
            "model update: variables:['LSTAT', 'RM', 'PTRATIO', 'CHAS'], AIC: 592.7242306478062\n",
            "model update: variables:['LSTAT', 'RM', 'PTRATIO', 'CHAS', 'CRIM'], AIC: 589.6755654228307\n",
            "model update: variables:['LSTAT', 'RM', 'PTRATIO', 'CHAS', 'DIS'], AIC: 584.6355596001058\n",
            "model update: variables:['LSTAT', 'RM', 'PTRATIO', 'CHAS', 'B'], AIC: 582.882339198932\n",
            "model update: variables:['LSTAT', 'RM', 'PTRATIO', 'CHAS', 'B', 'CRIM'], AIC: 582.09039814691\n",
            "model update: variables:['LSTAT', 'RM', 'PTRATIO', 'CHAS', 'B', 'DIS'], AIC: 570.8626728307938\n",
            "model update: variables:['LSTAT', 'RM', 'PTRATIO', 'CHAS', 'B', 'DIS', 'CRIM'], AIC: 566.7748812526243\n",
            "model update: variables:['LSTAT', 'RM', 'PTRATIO', 'CHAS', 'B', 'DIS', 'NOX'], AIC: 559.9675545685011\n",
            "model update: variables:['LSTAT', 'RM', 'PTRATIO', 'CHAS', 'B', 'DIS', 'NOX', 'CRIM'], AIC: 557.3511027482149\n",
            "model update: variables:['LSTAT', 'RM', 'PTRATIO', 'CHAS', 'B', 'DIS', 'NOX', 'CRIM', 'ZN'], AIC: 555.4674205799441\n",
            "model update: variables:['LSTAT', 'RM', 'PTRATIO', 'CHAS', 'B', 'DIS', 'NOX', 'CRIM', 'RAD'], AIC: 552.0026436286125\n",
            "model update: variables:['LSTAT', 'RM', 'PTRATIO', 'CHAS', 'B', 'DIS', 'NOX', 'CRIM', 'RAD', 'ZN'], AIC: 551.1382121548959\n",
            "model update: variables:['LSTAT', 'RM', 'PTRATIO', 'CHAS', 'B', 'DIS', 'NOX', 'CRIM', 'RAD', 'ZN', 'TAX'], AIC: 549.8716629155037\n"
          ],
          "name": "stdout"
        }
      ]
    },
    {
      "cell_type": "code",
      "metadata": {
        "id": "iHwXYyBzX-jT",
        "colab": {
          "base_uri": "https://localhost:8080/",
          "height": 85
        },
        "outputId": "78fe62b7-a26b-47de-d106-87972acadfc5"
      },
      "source": [
        "# 分析結果として、回帰係数（reg.coef_）、切片（reg.intercept_）を表示する\n",
        "print(colList)\n",
        "print(reg.coef_[0])\n",
        "print(reg.intercept_[0])"
      ],
      "execution_count": null,
      "outputs": [
        {
          "output_type": "stream",
          "text": [
            "['LSTAT', 'RM', 'PTRATIO', 'CHAS', 'B', 'DIS', 'NOX', 'CRIM', 'RAD', 'ZN', 'TAX']\n",
            "[-0.421386    0.30266284 -0.21805609  0.08813774  0.10745286 -0.30868068\n",
            " -0.19125411 -0.11929884  0.21377563  0.08556997 -0.13217125]\n",
            "-1.226626513824023e-16\n"
          ],
          "name": "stdout"
        }
      ]
    },
    {
      "cell_type": "code",
      "metadata": {
        "id": "F_LX_eM8KnSF",
        "colab": {
          "base_uri": "https://localhost:8080/",
          "height": 390
        },
        "outputId": "1c2eef3f-eec1-4ca6-bcfc-544603c73eb0"
      },
      "source": [
        "# 多重共線性を確認する\n",
        "vif = checkVIF(X_train_std[colList])\n",
        "vif[\"COEF\"] = reg.coef_[0]\n",
        "vif"
      ],
      "execution_count": null,
      "outputs": [
        {
          "output_type": "execute_result",
          "data": {
            "text/html": [
              "<div>\n",
              "<style scoped>\n",
              "    .dataframe tbody tr th:only-of-type {\n",
              "        vertical-align: middle;\n",
              "    }\n",
              "\n",
              "    .dataframe tbody tr th {\n",
              "        vertical-align: top;\n",
              "    }\n",
              "\n",
              "    .dataframe thead th {\n",
              "        text-align: right;\n",
              "    }\n",
              "</style>\n",
              "<table border=\"1\" class=\"dataframe\">\n",
              "  <thead>\n",
              "    <tr style=\"text-align: right;\">\n",
              "      <th></th>\n",
              "      <th>COLUMN</th>\n",
              "      <th>VIF</th>\n",
              "      <th>COEF</th>\n",
              "    </tr>\n",
              "  </thead>\n",
              "  <tbody>\n",
              "    <tr>\n",
              "      <th>0</th>\n",
              "      <td>LSTAT</td>\n",
              "      <td>2.480300</td>\n",
              "      <td>-0.421386</td>\n",
              "    </tr>\n",
              "    <tr>\n",
              "      <th>1</th>\n",
              "      <td>RM</td>\n",
              "      <td>1.811865</td>\n",
              "      <td>0.302663</td>\n",
              "    </tr>\n",
              "    <tr>\n",
              "      <th>2</th>\n",
              "      <td>PTRATIO</td>\n",
              "      <td>1.792094</td>\n",
              "      <td>-0.218056</td>\n",
              "    </tr>\n",
              "    <tr>\n",
              "      <th>3</th>\n",
              "      <td>CHAS</td>\n",
              "      <td>1.088475</td>\n",
              "      <td>0.088138</td>\n",
              "    </tr>\n",
              "    <tr>\n",
              "      <th>4</th>\n",
              "      <td>B</td>\n",
              "      <td>1.260822</td>\n",
              "      <td>0.107453</td>\n",
              "    </tr>\n",
              "    <tr>\n",
              "      <th>5</th>\n",
              "      <td>DIS</td>\n",
              "      <td>3.525581</td>\n",
              "      <td>-0.308681</td>\n",
              "    </tr>\n",
              "    <tr>\n",
              "      <th>6</th>\n",
              "      <td>NOX</td>\n",
              "      <td>3.931789</td>\n",
              "      <td>-0.191254</td>\n",
              "    </tr>\n",
              "    <tr>\n",
              "      <th>7</th>\n",
              "      <td>CRIM</td>\n",
              "      <td>1.728729</td>\n",
              "      <td>-0.119299</td>\n",
              "    </tr>\n",
              "    <tr>\n",
              "      <th>8</th>\n",
              "      <td>RAD</td>\n",
              "      <td>6.916102</td>\n",
              "      <td>0.213776</td>\n",
              "    </tr>\n",
              "    <tr>\n",
              "      <th>9</th>\n",
              "      <td>ZN</td>\n",
              "      <td>2.289778</td>\n",
              "      <td>0.085570</td>\n",
              "    </tr>\n",
              "    <tr>\n",
              "      <th>10</th>\n",
              "      <td>TAX</td>\n",
              "      <td>7.327580</td>\n",
              "      <td>-0.132171</td>\n",
              "    </tr>\n",
              "  </tbody>\n",
              "</table>\n",
              "</div>"
            ],
            "text/plain": [
              "     COLUMN       VIF      COEF\n",
              "0     LSTAT  2.480300 -0.421386\n",
              "1        RM  1.811865  0.302663\n",
              "2   PTRATIO  1.792094 -0.218056\n",
              "3      CHAS  1.088475  0.088138\n",
              "4         B  1.260822  0.107453\n",
              "5       DIS  3.525581 -0.308681\n",
              "6       NOX  3.931789 -0.191254\n",
              "7      CRIM  1.728729 -0.119299\n",
              "8       RAD  6.916102  0.213776\n",
              "9        ZN  2.289778  0.085570\n",
              "10      TAX  7.327580 -0.132171"
            ]
          },
          "metadata": {
            "tags": []
          },
          "execution_count": 13
        }
      ]
    },
    {
      "cell_type": "code",
      "metadata": {
        "id": "GECqji8YX-dO",
        "colab": {
          "base_uri": "https://localhost:8080/",
          "height": 85
        },
        "outputId": "b4d79baa-c260-4819-ac16-be158ca489b9"
      },
      "source": [
        "# モデル構築用データについて各精度評価指標を計算する\n",
        "print(\"R2 SCORE:\" + str(round(r2_score(y_train_std, reg.predict(X_train_std[colList])),4)) )\n",
        "print(\"MSE     :\" + str(round(mean_squared_error(y_train_std, reg.predict(X_train_std[colList])),4)) )\n",
        "print(\"MAE     :\" + str(round(mean_absolute_error(y_train_std, reg.predict(X_train_std[colList])),4)) )\n",
        "print(\"MedianAE:\" + str(round(median_absolute_error(y_train_std, reg.predict(X_train_std[colList])),4)) )"
      ],
      "execution_count": null,
      "outputs": [
        {
          "output_type": "stream",
          "text": [
            "R2 SCORE:0.7428\n",
            "MSE     :0.2572\n",
            "MAE     :0.359\n",
            "MedianAE:0.2652\n"
          ],
          "name": "stdout"
        }
      ]
    },
    {
      "cell_type": "code",
      "metadata": {
        "id": "OfcX2qunNMOt",
        "colab": {
          "base_uri": "https://localhost:8080/",
          "height": 85
        },
        "outputId": "949da344-c54b-45b1-f6dc-efdcad8983a1"
      },
      "source": [
        "# モデル検証用データについて各精度評価指標を計算する\n",
        "print(\"R2 SCORE:\" + str(round(r2_score(y_test_std, reg.predict(X_test_std[colList])),4)) )\n",
        "print(\"MSE     :\" + str(round(mean_squared_error(y_test_std, reg.predict(X_test_std[colList])),4)) )\n",
        "print(\"MAE     :\" + str(round(mean_absolute_error(y_test_std, reg.predict(X_test_std[colList])),4)) )\n",
        "print(\"MedianAE:\" + str(round(median_absolute_error(y_test_std, reg.predict(X_test_std[colList])),4)) )"
      ],
      "execution_count": null,
      "outputs": [
        {
          "output_type": "stream",
          "text": [
            "R2 SCORE:0.7149\n",
            "MSE     :0.2417\n",
            "MAE     :0.3321\n",
            "MedianAE:0.2531\n"
          ],
          "name": "stdout"
        }
      ]
    }
  ]
}